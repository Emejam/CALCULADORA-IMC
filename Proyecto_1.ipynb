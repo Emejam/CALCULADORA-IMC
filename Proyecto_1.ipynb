{
  "nbformat": 4,
  "nbformat_minor": 0,
  "metadata": {
    "colab": {
      "provenance": [],
      "authorship_tag": "ABX9TyMUN9Iu29N5VeHWixwjLdg7",
      "include_colab_link": true
    },
    "kernelspec": {
      "name": "python3",
      "display_name": "Python 3"
    },
    "language_info": {
      "name": "python"
    }
  },
  "cells": [
    {
      "cell_type": "markdown",
      "metadata": {
        "id": "view-in-github",
        "colab_type": "text"
      },
      "source": [
        "<a href=\"https://colab.research.google.com/github/Emejam/CALCULADORA-IMC/blob/main/Proyecto_1.ipynb\" target=\"_parent\"><img src=\"https://colab.research.google.com/assets/colab-badge.svg\" alt=\"Open In Colab\"/></a>"
      ]
    },
    {
      "cell_type": "code",
      "execution_count": 26,
      "metadata": {
        "id": "SNvDm3XvS8mC"
      },
      "outputs": [],
      "source": []
    },
    {
      "cell_type": "markdown",
      "source": [
        "Proyecto Num.1"
      ],
      "metadata": {
        "id": "6IpOGkUWTWYx"
      }
    },
    {
      "cell_type": "code",
      "source": [
        "#Crear un programa que pida al usuario su nombre, apellido paterno, apellido materno, edad, peso y estatura, desplegarlos en pantalla junto\n",
        "#con su Índice de Masa Corporal (IMC).\n",
        "\n",
        "#El programa no puede permitir que ningún dato quede vacío, además de asegurarse de que en los campos de edad,\n",
        "#peso y estatura el usuario introduzca una cifra. Todo esto antes de proceder con el cálculo del IMC siguiendo la fórmula:\n",
        "\n",
        "\n"
      ],
      "metadata": {
        "id": "fOANFoslTeMM"
      },
      "execution_count": 27,
      "outputs": []
    },
    {
      "cell_type": "code",
      "source": [
        "print (\"\"\"                                      ¡Bienvenido!\n",
        "\n",
        "            En el siguiente apartado podras conocer tu IMC (Indice de masa corporal)\n",
        "\n",
        "                  Asegurate de llenar correctamente los datos que te solicitan. \"\"\")"
      ],
      "metadata": {
        "colab": {
          "base_uri": "https://localhost:8080/"
        },
        "id": "ufjTNzg1T9Lt",
        "outputId": "8bf2af2c-36c0-477f-9fc0-25bf0ad1d2d7"
      },
      "execution_count": 28,
      "outputs": [
        {
          "output_type": "stream",
          "name": "stdout",
          "text": [
            "                                      ¡Bienvenido!\n",
            "\n",
            "            En el siguiente apartado podras conocer tu IMC (Indice de masa corporal)\n",
            "\n",
            "                  Asegurate de llenar correctamente los datos que te solicitan. \n"
          ]
        }
      ]
    },
    {
      "cell_type": "code",
      "source": [
        "def obtener_nombre (mensaje, mensaje_while):\n",
        "  dato = input (mensaje).strip()\n",
        "  while dato == \"\" or len (dato) < 3:\n",
        "    dato = input (mensaje_while).strip()\n",
        "  return dato"
      ],
      "metadata": {
        "id": "IKxX7jOEZgS7"
      },
      "execution_count": 29,
      "outputs": []
    },
    {
      "cell_type": "code",
      "source": [
        "nom = obtener_nombre (\"\"\"\n",
        "                                   Gracias por mostrar interes en tu salud, porfavor introduce tu nombre: \"\"\".strip (), \"\"\"\n",
        "\n",
        "                                                           Informacion no valida, intenta denuevo:\n",
        "                                                           \"\"\")"
      ],
      "metadata": {
        "colab": {
          "base_uri": "https://localhost:8080/"
        },
        "id": "j3xit4QRbj-w",
        "outputId": "50df7bb1-ed82-4c89-adc8-41a4b2a4572d"
      },
      "execution_count": 30,
      "outputs": [
        {
          "name": "stdout",
          "output_type": "stream",
          "text": [
            "Gracias por mostrar interes en tu salud, porfavor introduce tu nombre:Maximiliano\n"
          ]
        }
      ]
    },
    {
      "cell_type": "code",
      "source": [
        "def obtener_apellidop (mensaje, mensaje_while) :\n",
        " dato = input (mensaje).strip()\n",
        " while dato == \"\" or len (dato) < 3:\n",
        "   dato = input (mensaje_while).strip()\n",
        " return dato"
      ],
      "metadata": {
        "id": "kKKGJyBz42XU"
      },
      "execution_count": 31,
      "outputs": []
    },
    {
      "cell_type": "code",
      "source": [
        "apellido_paterno = obtener_apellidop (\"Introduce tu apellido paterno: \".strip (), \"Informacion no valida, intenta denuevo: \")"
      ],
      "metadata": {
        "colab": {
          "base_uri": "https://localhost:8080/"
        },
        "id": "nHHuE27_64Hv",
        "outputId": "442a87a0-8bde-497e-ffe9-b6f84f4c9e5e"
      },
      "execution_count": 32,
      "outputs": [
        {
          "name": "stdout",
          "output_type": "stream",
          "text": [
            "Introduce tu apellido paterno:Ramirez\n"
          ]
        }
      ]
    },
    {
      "cell_type": "code",
      "source": [
        "def obtener_apellidom (mensaje, mensaje_while) :\n",
        "  dato = input (mensaje).strip()\n",
        "  while dato == \"\" or len (dato) < 3:\n",
        "    dato = input (mensaje_while).strip()\n",
        "  return dato"
      ],
      "metadata": {
        "id": "NZVSTQQp7t5-"
      },
      "execution_count": 33,
      "outputs": []
    },
    {
      "cell_type": "code",
      "source": [
        "apellido_materno = obtener_apellidom (\"Introduce tu apellido materno: \".strip (), \"Informacion no valida, intenta denuevo: \")"
      ],
      "metadata": {
        "colab": {
          "base_uri": "https://localhost:8080/"
        },
        "id": "HnpOn7HK8iXE",
        "outputId": "87c87529-974d-437c-d683-3ba4bd955de8"
      },
      "execution_count": 34,
      "outputs": [
        {
          "name": "stdout",
          "output_type": "stream",
          "text": [
            "Introduce tu apellido materno:Torrez\n"
          ]
        }
      ]
    },
    {
      "cell_type": "code",
      "source": [
        "def años (mensaje, mensaje_while) :\n",
        "  while True:\n",
        "    try:\n",
        "      dato = int(input (mensaje).strip())\n",
        "      return dato\n",
        "    except ValueError:\n",
        "      print (mensaje_while)\n"
      ],
      "metadata": {
        "id": "aGKFa5msAWlx"
      },
      "execution_count": 35,
      "outputs": []
    },
    {
      "cell_type": "code",
      "source": [
        "edad = años (\"Introduce tu edad: \".strip(), \"Informacion no valida, ingresa caracteres numericos: \")"
      ],
      "metadata": {
        "colab": {
          "base_uri": "https://localhost:8080/"
        },
        "id": "OCu2iXffETou",
        "outputId": "8b12f6a2-b474-47ab-8fdb-bce49353c550"
      },
      "execution_count": 36,
      "outputs": [
        {
          "name": "stdout",
          "output_type": "stream",
          "text": [
            "Introduce tu edad:22\n"
          ]
        }
      ]
    },
    {
      "cell_type": "code",
      "source": [
        "def calcular_imc (peso, altura):\n",
        "     imc = peso / (altura ** 2)\n",
        "     return imc\n"
      ],
      "metadata": {
        "id": "-CoXtPvb16mP"
      },
      "execution_count": 37,
      "outputs": []
    },
    {
      "cell_type": "code",
      "source": [
        "peso = float(input(\"Porfavor introduce tu peso en kilogramos: \"))\n",
        "altura = float(input(\"Ingresa tu altura en metros: \"))\n",
        "\n"
      ],
      "metadata": {
        "colab": {
          "base_uri": "https://localhost:8080/"
        },
        "id": "UJngNm2t98aY",
        "outputId": "4036de54-c60b-41ae-d9da-e2b226d2bd45"
      },
      "execution_count": 38,
      "outputs": [
        {
          "name": "stdout",
          "output_type": "stream",
          "text": [
            "Porfavor introduce tu peso en kilogramos: 80\n",
            "Ingresa tu altura en metros: 1.90\n"
          ]
        }
      ]
    },
    {
      "cell_type": "code",
      "source": [
        "imc = calcular_imc(peso, altura)\n",
        "if imc < 18.5:\n",
        "  estado = \"Bajo de peso, necesitas mejorar tu ingesta\"\n",
        "elif imc <= imc <24.9:\n",
        "    estado = \"Peso normal, sigue asi =) \"\n",
        "elif imc <= imc <29.9:\n",
        "      estado = \"Sobrepeso, usted debe de comenzar a cambiar habitos alimenticios. \"\n",
        "else:\n",
        "        estado = \"Obesidad, piense en su familia y lo valiosa que es la vida. \""
      ],
      "metadata": {
        "id": "fWUlAoOy_DcI"
      },
      "execution_count": 39,
      "outputs": []
    },
    {
      "cell_type": "code",
      "source": [
        "print (f\"\"\"          ¡GRACIAS! {nom} {apellido_paterno} {apellido_materno}, con {edad} años es tiempo de escuchar tu cuerpo.\n",
        "\n",
        "                                            Tu IMC es: {imc:.2f}. y tus resultados son:\n",
        "\n",
        "                                                         {estado}                     \"\"\")"
      ],
      "metadata": {
        "colab": {
          "base_uri": "https://localhost:8080/"
        },
        "id": "LVB-Bg7JzxaP",
        "outputId": "2f48efae-77a2-4ac1-b55a-974928e5fa16"
      },
      "execution_count": 40,
      "outputs": [
        {
          "output_type": "stream",
          "name": "stdout",
          "text": [
            "          ¡GRACIAS! Maximiliano Ramirez Torrez, con 22 años es tiempo de escuchar tu cuerpo.\n",
            "                                                                             \n",
            "                                            Tu IMC es: 22.16. y tus resultados son:\n",
            "                                                                             \n",
            "                                                         Peso normal, sigue asi =)                      \n"
          ]
        }
      ]
    }
  ]
}